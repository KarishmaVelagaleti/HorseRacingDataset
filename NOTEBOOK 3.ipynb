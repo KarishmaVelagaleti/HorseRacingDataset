{
 "cells": [
  {
   "cell_type": "markdown",
   "metadata": {},
   "source": [
    "<h1><center> Python Analytics Project </center></h1>\n",
    "\n",
    "<center> <b><i>Team</i></b>: Karishma Velagaleti | Jiang Shang | Aditya Tripathi | Satyarth Poppasani </center>\n",
    "<center> <b><i>Data Set </i></b>: HongKong Horse Racing Data-set</center>\n",
    "<center> <b><i>Problem Statement</i></b>: Analytics for HongKong horse-race betting </center>"
   ]
  },
  {
   "cell_type": "markdown",
   "metadata": {},
   "source": [
    "#### <center><b><i>Notebook 3: PREDICTING WINNING HORSE OF THE RACE (not necessarily the finishing rank) </i></b></center>"
   ]
  },
  {
   "cell_type": "code",
   "execution_count": 4,
   "metadata": {
    "collapsed": false
   },
   "outputs": [],
   "source": [
    "import pandas as pd\n",
    "from pandas import Series, DataFrame\n",
    "import numpy as np\n",
    "import re\n",
    "from IPython.display import Image\n",
    "from sklearn import svm # read more at: scikit-learn.org\n",
    "from sklearn.model_selection import cross_val_score\n",
    "from sklearn.svm import LinearSVC\n",
    "import matplotlib.pyplot as plt\n",
    "import pydot_ng as pydot # visualization of trees (among many others)\n",
    "%matplotlib inline\n",
    "\n",
    "from sklearn import tree\n",
    "from sklearn.tree import DecisionTreeClassifier\n",
    "from sklearn.ensemble import BaggingClassifier\n",
    "from sklearn.ensemble import RandomForestClassifier\n",
    "from sklearn.ensemble import AdaBoostClassifier\n",
    "from sklearn.model_selection import train_test_split\n",
    "from sklearn.model_selection import cross_val_score\n",
    "from sklearn.preprocessing import LabelEncoder\n",
    "\n",
    "from IPython.display import Image # displaying images files in jupyter\n",
    "from IPython.display import IFrame # displaying pdf file in jupyter\n",
    "\n",
    "race_result_horse = pd.read_csv(\"race-result-horse.csv\")\n",
    "race_result_race = pd.read_csv(\"race-result-race.csv\", encoding='latin-1')"
   ]
  },
  {
   "cell_type": "code",
   "execution_count": 2,
   "metadata": {
    "collapsed": true
   },
   "outputs": [],
   "source": [
    "race_result_horse[\"isWinner\"] = race_result_horse.finishing_position=='1'"
   ]
  },
  {
   "cell_type": "code",
   "execution_count": 3,
   "metadata": {
    "collapsed": false
   },
   "outputs": [
    {
     "name": "stdout",
     "output_type": "stream",
     "text": [
      "src                       object\n",
      "race_date                 object\n",
      "race_course               object\n",
      "race_number                int64\n",
      "race_id                   object\n",
      "race_class                object\n",
      "race_distance              int64\n",
      "track_condition           object\n",
      "race_name                 object\n",
      "track                     object\n",
      "sectional_time            object\n",
      "incident_report           object\n",
      "finishing_position        object\n",
      "horse_number             float64\n",
      "horse_name                object\n",
      "horse_id                  object\n",
      "jockey                    object\n",
      "trainer                   object\n",
      "actual_weight            float64\n",
      "declared_horse_weight    float64\n",
      "draw                     float64\n",
      "length_behind_winner      object\n",
      "running_position_1       float64\n",
      "running_position_2       float64\n",
      "running_position_3       float64\n",
      "running_position_4       float64\n",
      "finish_time               object\n",
      "win_odds                 float64\n",
      "running_position_5       float64\n",
      "running_position_6       float64\n",
      "isWinner                    bool\n",
      "dtype: object\n"
     ]
    }
   ],
   "source": [
    "merged_df = race_result_race.merge(race_result_horse, on='race_id', how='inner')\n",
    "print(merged_df.dtypes)"
   ]
  },
  {
   "cell_type": "code",
   "execution_count": 4,
   "metadata": {
    "collapsed": false
   },
   "outputs": [
    {
     "name": "stdout",
     "output_type": "stream",
     "text": [
      "Index(['src', 'race_date', 'race_course', 'race_id', 'race_class',\n",
      "       'track_condition', 'race_name', 'track', 'sectional_time',\n",
      "       'incident_report', 'finishing_position', 'horse_name', 'horse_id',\n",
      "       'jockey', 'trainer', 'length_behind_winner', 'finish_time'],\n",
      "      dtype='object')\n"
     ]
    }
   ],
   "source": [
    "# collecting categorical varibale names \n",
    "cat_var = merged_df.dtypes.loc[merged_df.dtypes=='object'].index\n",
    "print(cat_var)"
   ]
  },
  {
   "cell_type": "code",
   "execution_count": 5,
   "metadata": {
    "collapsed": false
   },
   "outputs": [],
   "source": [
    "cat_var=cat_var.drop(['length_behind_winner','finish_time','src','sectional_time','incident_report']) \n",
    "#dropping unwanted cat_vars"
   ]
  },
  {
   "cell_type": "code",
   "execution_count": 6,
   "metadata": {
    "collapsed": false
   },
   "outputs": [
    {
     "data": {
      "text/plain": [
       "race_date              166\n",
       "race_course              2\n",
       "race_id               1561\n",
       "race_class              15\n",
       "track_condition          9\n",
       "race_name              958\n",
       "track                    7\n",
       "finishing_position      37\n",
       "horse_name            1747\n",
       "horse_id              1747\n",
       "jockey                  88\n",
       "trainer                 77\n",
       "dtype: int64"
      ]
     },
     "execution_count": 6,
     "metadata": {},
     "output_type": "execute_result"
    }
   ],
   "source": [
    "# check for unique variables in cat_var\n",
    "merged_df[cat_var].apply(lambda x: len(x.unique()))"
   ]
  },
  {
   "cell_type": "code",
   "execution_count": 7,
   "metadata": {
    "collapsed": false
   },
   "outputs": [],
   "source": [
    "#del merged_df['length_behind_winner','finish_time','src','sectional_time','incident_report']\n",
    "merged_df.drop(['length_behind_winner','finish_time','src','sectional_time','incident_report',\n",
    "               'running_position_1','running_position_2','running_position_3','running_position_4',\n",
    "               'running_position_5','running_position_6'],inplace=True,axis=1)"
   ]
  },
  {
   "cell_type": "code",
   "execution_count": 8,
   "metadata": {
    "collapsed": false
   },
   "outputs": [
    {
     "data": {
      "text/plain": [
       "<matplotlib.axes._subplots.AxesSubplot at 0x1a443d44128>"
      ]
     },
     "execution_count": 8,
     "metadata": {},
     "output_type": "execute_result"
    },
    {
     "data": {
      "image/png": "[encoded data removed]",
      "text/plain": [
       "<matplotlib.figure.Figure at 0x1a443905dd8>"
      ]
     },
     "metadata": {},
     "output_type": "display_data"
    }
   ],
   "source": [
    "# horse number performance\n",
    "cross_tab = pd.crosstab(merged_df['horse_number'], merged_df['isWinner'], margins=True)\n",
    "cross_tab.iloc[:-1,:-1].plot(kind='bar', stacked=True, color=['red', 'blue'], grid=False)"
   ]
  },
  {
   "cell_type": "code",
   "execution_count": 9,
   "metadata": {
    "collapsed": false
   },
   "outputs": [
    {
     "data": {
      "text/plain": [
       "<matplotlib.axes._subplots.AxesSubplot at 0x1a443d51be0>"
      ]
     },
     "execution_count": 9,
     "metadata": {},
     "output_type": "execute_result"
    },
    {
     "data": {
      "image/png": "[encoded data removed]",
      "text/plain": [
       "<matplotlib.figure.Figure at 0x1a44528bbe0>"
      ]
     },
     "metadata": {},
     "output_type": "display_data"
    }
   ],
   "source": [
    "# percentage conversion\n",
    "def perConvert(ser):\n",
    "    return ser/float(ser[-1])\n",
    "cross_tab_1 = cross_tab.apply(perConvert, axis=1)\n",
    "cross_tab_1.iloc[:-1,:-1].plot(kind='bar', stacked=True, color=['red', 'blue'], grid=False)"
   ]
  },
  {
   "cell_type": "markdown",
   "metadata": {},
   "source": [
    "The above chart represents the relation of horse_number and the winner of the race. Lower the horse number, better is the rank and higher is the chance of winning."
   ]
  },
  {
   "cell_type": "code",
   "execution_count": 10,
   "metadata": {
    "collapsed": false
   },
   "outputs": [
    {
     "data": {
      "text/plain": [
       "<matplotlib.axes._subplots.AxesSubplot at 0x1a4454083c8>"
      ]
     },
     "execution_count": 10,
     "metadata": {},
     "output_type": "execute_result"
    },
    {
     "data": {
      "image/png": "[encoded data removed]",
      "text/plain": [
       "<matplotlib.figure.Figure at 0x1a445424a20>"
      ]
     },
     "metadata": {},
     "output_type": "display_data"
    }
   ],
   "source": [
    "# win_odds performance\n",
    "cross_tab = pd.crosstab(merged_df['win_odds'], merged_df['isWinner'], margins=True)\n",
    "cross_tab.iloc[:-1,:-1].plot(kind='bar', stacked=True, color=['red', 'blue'], grid=False)\n"
   ]
  },
  {
   "cell_type": "code",
   "execution_count": 11,
   "metadata": {
    "collapsed": false
   },
   "outputs": [
    {
     "data": {
      "text/plain": [
       "<matplotlib.axes._subplots.AxesSubplot at 0x1a445564128>"
      ]
     },
     "execution_count": 11,
     "metadata": {},
     "output_type": "execute_result"
    },
    {
     "data": {
      "image/png": "[encoded data removed]",
      "text/plain": [
       "<matplotlib.figure.Figure at 0x1a44559beb8>"
      ]
     },
     "metadata": {},
     "output_type": "display_data"
    }
   ],
   "source": [
    "cross_tab_1 = cross_tab.apply(perConvert, axis=1)\n",
    "cross_tab_1.iloc[:-1,:-1].plot(kind='bar', stacked=True, color=['red', 'blue'], grid=False)"
   ]
  },
  {
   "cell_type": "markdown",
   "metadata": {},
   "source": [
    "The above chart indicates that for lower win_odds the win percentage is more."
   ]
  },
  {
   "cell_type": "code",
   "execution_count": 12,
   "metadata": {
    "collapsed": false
   },
   "outputs": [],
   "source": [
    "merged_df.apply(lambda x: sum(x.isnull()))\n",
    "merged_df = merged_df.dropna()"
   ]
  },
  {
   "cell_type": "code",
   "execution_count": 13,
   "metadata": {
    "collapsed": false
   },
   "outputs": [
    {
     "data": {
      "text/plain": [
       "race_date                0\n",
       "race_course              0\n",
       "race_number              0\n",
       "race_id                  0\n",
       "race_class               0\n",
       "race_distance            0\n",
       "track_condition          0\n",
       "race_name                0\n",
       "track                    0\n",
       "finishing_position       0\n",
       "horse_number             0\n",
       "horse_name               0\n",
       "horse_id                 0\n",
       "jockey                   0\n",
       "trainer                  0\n",
       "actual_weight            0\n",
       "declared_horse_weight    0\n",
       "draw                     0\n",
       "win_odds                 0\n",
       "isWinner                 0\n",
       "dtype: int64"
      ]
     },
     "execution_count": 13,
     "metadata": {},
     "output_type": "execute_result"
    }
   ],
   "source": [
    "merged_df.apply(lambda x: sum(x.isnull()))"
   ]
  },
  {
   "cell_type": "code",
   "execution_count": 14,
   "metadata": {
    "collapsed": false
   },
   "outputs": [],
   "source": [
    "# since we cannot plug categorical values we need to convert it to numerical values \n",
    "# this is taken care by the LabelEncoder() function from sklearm.preprocessing\n",
    "from sklearn import preprocessing\n",
    "le = preprocessing.LabelEncoder()\n",
    "for var in cat_var:\n",
    "    merged_df[var] = le.fit_transform(merged_df[var])"
   ]
  },
  {
   "cell_type": "code",
   "execution_count": 15,
   "metadata": {
    "collapsed": false
   },
   "outputs": [
    {
     "name": "stdout",
     "output_type": "stream",
     "text": [
      "<class 'pandas.core.frame.DataFrame'>\n",
      "Int64Index: 19595 entries, 0 to 19995\n",
      "Data columns (total 20 columns):\n",
      "race_date                19595 non-null int64\n",
      "race_course              19595 non-null int64\n",
      "race_number              19595 non-null int64\n",
      "race_id                  19595 non-null int64\n",
      "race_class               19595 non-null int64\n",
      "race_distance            19595 non-null int64\n",
      "track_condition          19595 non-null int64\n",
      "race_name                19595 non-null int64\n",
      "track                    19595 non-null int64\n",
      "finishing_position       19595 non-null int64\n",
      "horse_number             19595 non-null float64\n",
      "horse_name               19595 non-null int64\n",
      "horse_id                 19595 non-null int64\n",
      "jockey                   19595 non-null int64\n",
      "trainer                  19595 non-null int64\n",
      "actual_weight            19595 non-null float64\n",
      "declared_horse_weight    19595 non-null float64\n",
      "draw                     19595 non-null float64\n",
      "win_odds                 19595 non-null float64\n",
      "isWinner                 19595 non-null bool\n",
      "dtypes: bool(1), float64(5), int64(14)\n",
      "memory usage: 3.0 MB\n"
     ]
    }
   ],
   "source": [
    "merged_df.info()"
   ]
  },
  {
   "cell_type": "code",
   "execution_count": 16,
   "metadata": {
    "collapsed": false
   },
   "outputs": [
    {
     "data": {
      "text/html": [
       "<div>\n",
       "<table border=\"1\" class=\"dataframe\">\n",
       "  <thead>\n",
       "    <tr style=\"text-align: right;\">\n",
       "      <th></th>\n",
       "      <th>race_date</th>\n",
       "      <th>race_course</th>\n",
       "      <th>race_number</th>\n",
       "      <th>race_id</th>\n",
       "      <th>race_class</th>\n",
       "      <th>race_distance</th>\n",
       "      <th>track_condition</th>\n",
       "      <th>race_name</th>\n",
       "      <th>track</th>\n",
       "      <th>finishing_position</th>\n",
       "      <th>horse_number</th>\n",
       "      <th>horse_name</th>\n",
       "      <th>horse_id</th>\n",
       "      <th>jockey</th>\n",
       "      <th>trainer</th>\n",
       "      <th>actual_weight</th>\n",
       "      <th>declared_horse_weight</th>\n",
       "      <th>draw</th>\n",
       "      <th>win_odds</th>\n",
       "      <th>isWinner</th>\n",
       "    </tr>\n",
       "  </thead>\n",
       "  <tbody>\n",
       "    <tr>\n",
       "      <th>0</th>\n",
       "      <td>0</td>\n",
       "      <td>1</td>\n",
       "      <td>1</td>\n",
       "      <td>0</td>\n",
       "      <td>7</td>\n",
       "      <td>1400</td>\n",
       "      <td>2</td>\n",
       "      <td>864</td>\n",
       "      <td>1</td>\n",
       "      <td>0</td>\n",
       "      <td>1.0</td>\n",
       "      <td>357</td>\n",
       "      <td>3</td>\n",
       "      <td>4</td>\n",
       "      <td>14</td>\n",
       "      <td>133.0</td>\n",
       "      <td>1032.0</td>\n",
       "      <td>1.0</td>\n",
       "      <td>3.8</td>\n",
       "      <td>True</td>\n",
       "    </tr>\n",
       "    <tr>\n",
       "      <th>1</th>\n",
       "      <td>0</td>\n",
       "      <td>1</td>\n",
       "      <td>1</td>\n",
       "      <td>0</td>\n",
       "      <td>7</td>\n",
       "      <td>1400</td>\n",
       "      <td>2</td>\n",
       "      <td>864</td>\n",
       "      <td>1</td>\n",
       "      <td>10</td>\n",
       "      <td>2.0</td>\n",
       "      <td>1195</td>\n",
       "      <td>699</td>\n",
       "      <td>21</td>\n",
       "      <td>15</td>\n",
       "      <td>133.0</td>\n",
       "      <td>1075.0</td>\n",
       "      <td>13.0</td>\n",
       "      <td>8.0</td>\n",
       "      <td>False</td>\n",
       "    </tr>\n",
       "    <tr>\n",
       "      <th>2</th>\n",
       "      <td>0</td>\n",
       "      <td>1</td>\n",
       "      <td>1</td>\n",
       "      <td>0</td>\n",
       "      <td>7</td>\n",
       "      <td>1400</td>\n",
       "      <td>2</td>\n",
       "      <td>864</td>\n",
       "      <td>1</td>\n",
       "      <td>12</td>\n",
       "      <td>10.0</td>\n",
       "      <td>626</td>\n",
       "      <td>381</td>\n",
       "      <td>84</td>\n",
       "      <td>73</td>\n",
       "      <td>121.0</td>\n",
       "      <td>1065.0</td>\n",
       "      <td>3.0</td>\n",
       "      <td>5.7</td>\n",
       "      <td>False</td>\n",
       "    </tr>\n",
       "    <tr>\n",
       "      <th>3</th>\n",
       "      <td>0</td>\n",
       "      <td>1</td>\n",
       "      <td>1</td>\n",
       "      <td>0</td>\n",
       "      <td>7</td>\n",
       "      <td>1400</td>\n",
       "      <td>2</td>\n",
       "      <td>864</td>\n",
       "      <td>1</td>\n",
       "      <td>14</td>\n",
       "      <td>3.0</td>\n",
       "      <td>1518</td>\n",
       "      <td>491</td>\n",
       "      <td>35</td>\n",
       "      <td>10</td>\n",
       "      <td>132.0</td>\n",
       "      <td>1222.0</td>\n",
       "      <td>2.0</td>\n",
       "      <td>6.1</td>\n",
       "      <td>False</td>\n",
       "    </tr>\n",
       "    <tr>\n",
       "      <th>4</th>\n",
       "      <td>0</td>\n",
       "      <td>1</td>\n",
       "      <td>1</td>\n",
       "      <td>0</td>\n",
       "      <td>7</td>\n",
       "      <td>1400</td>\n",
       "      <td>2</td>\n",
       "      <td>864</td>\n",
       "      <td>1</td>\n",
       "      <td>16</td>\n",
       "      <td>7.0</td>\n",
       "      <td>1551</td>\n",
       "      <td>0</td>\n",
       "      <td>86</td>\n",
       "      <td>40</td>\n",
       "      <td>125.0</td>\n",
       "      <td>1136.0</td>\n",
       "      <td>9.0</td>\n",
       "      <td>6.1</td>\n",
       "      <td>False</td>\n",
       "    </tr>\n",
       "  </tbody>\n",
       "</table>\n",
       "</div>"
      ],
      "text/plain": [
       "   race_date  race_course  race_number  race_id  race_class  race_distance  \\\n",
       "0          0            1            1        0           7           1400   \n",
       "1          0            1            1        0           7           1400   \n",
       "2          0            1            1        0           7           1400   \n",
       "3          0            1            1        0           7           1400   \n",
       "4          0            1            1        0           7           1400   \n",
       "\n",
       "   track_condition  race_name  track  finishing_position  horse_number  \\\n",
       "0                2        864      1                   0           1.0   \n",
       "1                2        864      1                  10           2.0   \n",
       "2                2        864      1                  12          10.0   \n",
       "3                2        864      1                  14           3.0   \n",
       "4                2        864      1                  16           7.0   \n",
       "\n",
       "   horse_name  horse_id  jockey  trainer  actual_weight  \\\n",
       "0         357         3       4       14          133.0   \n",
       "1        1195       699      21       15          133.0   \n",
       "2         626       381      84       73          121.0   \n",
       "3        1518       491      35       10          132.0   \n",
       "4        1551         0      86       40          125.0   \n",
       "\n",
       "   declared_horse_weight  draw  win_odds isWinner  \n",
       "0                 1032.0   1.0       3.8     True  \n",
       "1                 1075.0  13.0       8.0    False  \n",
       "2                 1065.0   3.0       5.7    False  \n",
       "3                 1222.0   2.0       6.1    False  \n",
       "4                 1136.0   9.0       6.1    False  "
      ]
     },
     "execution_count": 16,
     "metadata": {},
     "output_type": "execute_result"
    }
   ],
   "source": [
    "merged_df.head()"
   ]
  },
  {
   "cell_type": "code",
   "execution_count": 17,
   "metadata": {
    "collapsed": false
   },
   "outputs": [
    {
     "name": "stdout",
     "output_type": "stream",
     "text": [
      "(19595, 5) (19595,)\n"
     ]
    }
   ],
   "source": [
    "# creating a seperate prediction set for post cross validation\n",
    "#post16_X_test = merged_df[le.inverse_transform(merged_df.race_date)>='2016-01-01'] \n",
    "#post16_y_test = merged_df[le.inverse_transform(merged_df.race_date)>='2016-01-01',-1] \n",
    "X = merged_df[['horse_number','jockey','declared_horse_weight','draw','win_odds']]\n",
    "y = merged_df['isWinner'] \n",
    "\n",
    "print(X.shape, y.shape)\n"
   ]
  },
  {
   "cell_type": "code",
   "execution_count": 18,
   "metadata": {
    "collapsed": false
   },
   "outputs": [
    {
     "name": "stdout",
     "output_type": "stream",
     "text": [
      "(15676, 5) (3919, 5) (15676,) (3919,)\n"
     ]
    }
   ],
   "source": [
    "X_train, X_test, y_train, y_test = train_test_split(X, y, test_size=0.2, random_state=2)\n",
    "print(X_train.shape, X_test.shape, y_train.shape, y_test.shape)"
   ]
  },
  {
   "cell_type": "code",
   "execution_count": 19,
   "metadata": {
    "collapsed": false
   },
   "outputs": [
    {
     "name": "stdout",
     "output_type": "stream",
     "text": [
      "Accuracy of DecisionTreeClassifier(class_weight=None, criterion='gini', max_depth=None,\n",
      "            max_features=None, max_leaf_nodes=None,\n",
      "            min_impurity_split=1e-07, min_samples_leaf=5,\n",
      "            min_samples_split=17, min_weight_fraction_leaf=0.0,\n",
      "            presort=False, random_state=1, splitter='best') Classifier = 90.813983 %\n",
      "\n",
      "\n",
      "Accuracy of LinearSVC(C=1000, class_weight=None, dual=True, fit_intercept=True,\n",
      "     intercept_scaling=1, loss='squared_hinge', max_iter=1000,\n",
      "     multi_class='ovr', penalty='l2', random_state=None, tol=0.0001,\n",
      "     verbose=0) Classifier = 93.033937 %\n",
      "\n",
      "\n"
     ]
    },
    {
     "name": "stderr",
     "output_type": "stream",
     "text": [
      "C:\\Users\\adity\\Anaconda3\\lib\\site-packages\\sklearn\\ensemble\\bagging.py:603: UserWarning: Some inputs do not have OOB scores. This probably means too few estimators were used to compute any reliable oob estimates.\n",
      "  warn(\"Some inputs do not have OOB scores. \"\n",
      "C:\\Users\\adity\\Anaconda3\\lib\\site-packages\\sklearn\\ensemble\\bagging.py:608: RuntimeWarning: invalid value encountered in true_divide\n",
      "  predictions.sum(axis=1)[:, np.newaxis])\n"
     ]
    },
    {
     "name": "stdout",
     "output_type": "stream",
     "text": [
      "Accuracy of BaggingClassifier(base_estimator=DecisionTreeClassifier(class_weight=None, criterion='gini', max_depth=None,\n",
      "            max_features=None, max_leaf_nodes=None,\n",
      "            min_impurity_split=1e-07, min_samples_leaf=5,\n",
      "            min_samples_split=17, min_weight_fraction_leaf=0.0,\n",
      "            presort=False, random_state=1, splitter='best'),\n",
      "         bootstrap=True, bootstrap_features=False, max_features=1.0,\n",
      "         max_samples=1.0, n_estimators=20, n_jobs=1, oob_score=True,\n",
      "         random_state=None, verbose=0, warm_start=False) Classifier = 92.778770 %\n",
      "\n",
      "\n",
      "Accuracy of RandomForestClassifier(bootstrap=True, class_weight=None, criterion='gini',\n",
      "            max_depth=None, max_features='sqrt', max_leaf_nodes=None,\n",
      "            min_impurity_split=1e-07, min_samples_leaf=1,\n",
      "            min_samples_split=2, min_weight_fraction_leaf=0.0,\n",
      "            n_estimators=20, n_jobs=1, oob_score=False, random_state=None,\n",
      "            verbose=0, warm_start=False) Classifier = 92.293953 %\n",
      "\n",
      "\n"
     ]
    }
   ],
   "source": [
    "# list of classifiers\n",
    "base_clf = tree.DecisionTreeClassifier(min_samples_leaf=5,min_samples_split=17,random_state=1)\n",
    "classifers = [DecisionTreeClassifier(min_samples_leaf=5,min_samples_split=17,random_state=1),svm.LinearSVC(C=1000),\n",
    "             BaggingClassifier(n_estimators=20, base_estimator=base_clf, oob_score=True),\n",
    "             RandomForestClassifier(max_features=\"sqrt\", n_estimators=20)]\n",
    "for cl in classifers:\n",
    "    clf = cl\n",
    "    clf.fit(X_train, y_train)\n",
    "    accuracy = clf.score(X_test, y_test)*100\n",
    "    print('Accuracy of %r Classifier = %2f' % (cl, accuracy) + ' %')\n",
    "    print('\\n')\n",
    "           "
   ]
  },
  {
   "cell_type": "markdown",
   "metadata": {},
   "source": [
    "The above output shows that the accuracy of most classifiers corresponds to 92%."
   ]
  },
  {
   "cell_type": "markdown",
   "metadata": {},
   "source": [
    "The below confusion matrix represents the prediction result from the tree classifier."
   ]
  },
  {
   "cell_type": "code",
   "execution_count": 6,
   "metadata": {
    "collapsed": false
   },
   "outputs": [
    {
     "data": {
      "image/jpeg": "[encoded data removed]",
      "text/plain": [
       "<IPython.core.display.Image object>"
      ]
     },
     "execution_count": 6,
     "metadata": {},
     "output_type": "execute_result"
    }
   ],
   "source": [
    "Image(\"K.jpg\")"
   ]
  },
  {
   "cell_type": "markdown",
   "metadata": {},
   "source": [
    "From this table, we can note that accuracy is not the best measure here as we are trying to predict the winner of race and the losers of the race and how it affects any bettor.\n",
    "For example, there are 377 races(winners). If a person bets USD 10 on each race, he invests a total of USD 3770.\n",
    "Even if we consider an average return of 3 times the bet, the overall return will be USD2130.\n",
    "Hence, the total returns for the bettor is -USD1640.\n",
    " \n",
    "Therefore, it is important to consider the False positive rate and True positive rate in order to get the best model."
   ]
  },
  {
   "cell_type": "code",
   "execution_count": null,
   "metadata": {
    "collapsed": true
   },
   "outputs": [],
   "source": []
  }
 ],
 "metadata": {
  "anaconda-cloud": {},
  "kernelspec": {
   "display_name": "Python [conda root]",
   "language": "python",
   "name": "conda-root-py"
  },
  "language_info": {
   "codemirror_mode": {
    "name": "ipython",
    "version": 3
   },
   "file_extension": ".py",
   "mimetype": "text/x-python",
   "name": "python",
   "nbconvert_exporter": "python",
   "pygments_lexer": "ipython3",
   "version": "3.5.2"
  }
 },
 "nbformat": 4,
 "nbformat_minor": 2
}
