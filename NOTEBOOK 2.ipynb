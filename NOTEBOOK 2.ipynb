{
 "cells": [
  {
   "cell_type": "markdown",
   "metadata": {},
   "source": [
    "<h1><center> Python Analytics Project </center></h1>\n",
    "\n",
    "<center> <b><i>Team</i></b>: Karishma Velagaleti | Jiang Shang | Aditya Tripathi | Satyarth Poppasani </center>\n",
    "<center> <b><i>Data Set </i></b>: HongKong Horse Racing Data-set</center>\n",
    "<center> <b><i>Problem Statement</i></b>: Analytics for HongKong horse-race betting </center>"
   ]
  },
  {
   "cell_type": "markdown",
   "metadata": {},
   "source": [
    "#### <center><b><i>Notebook 2</i>: TESTING MORE PREDICTIVE MODELS ON OUR DATA SET TO PREDICT FINISHING POSITIONS OF HORSES</b></center>"
   ]
  },
  {
   "cell_type": "code",
   "execution_count": 1,
   "metadata": {
    "collapsed": false
   },
   "outputs": [
    {
     "name": "stderr",
     "output_type": "stream",
     "text": [
      "/Users/karishmavelagaleti/anaconda/lib/python3.5/site-packages/sklearn/cross_validation.py:44: DeprecationWarning: This module was deprecated in version 0.18 in favor of the model_selection module into which all the refactored classes and functions are moved. Also note that the interface of the new CV iterators are different from that of this module. This module will be removed in 0.20.\n",
      "  \"This module will be removed in 0.20.\", DeprecationWarning)\n"
     ]
    }
   ],
   "source": [
    "import pandas as pd\n",
    "from pandas import Series\n",
    "import numpy as np\n",
    "from sklearn import svm\n",
    "from sklearn import tree\n",
    "from sklearn.ensemble import AdaBoostClassifier\n",
    "from sklearn.ensemble import BaggingClassifier\n",
    "import scipy.stats as stats\n",
    "import sklearn\n",
    "from sklearn import linear_model\n",
    "from sklearn.cross_validation import cross_val_score\n",
    "from sklearn.cross_validation import train_test_split\n",
    "from sklearn.naive_bayes import BernoulliNB\n",
    "import matplotlib.pyplot as plt\n",
    "%matplotlib inline"
   ]
  },
  {
   "cell_type": "code",
   "execution_count": 2,
   "metadata": {
    "collapsed": false
   },
   "outputs": [],
   "source": [
    "results = pd.read_csv(\"race-result-horse.csv\")\n",
    "races = pd.read_csv(\"races_new.csv\", encoding='latin-1')"
   ]
  },
  {
   "cell_type": "code",
   "execution_count": 3,
   "metadata": {
    "collapsed": false
   },
   "outputs": [],
   "source": [
    "results[\"horse_number\"] = results[\"horse_number\"].astype(str)\n",
    "races[\"Month\"] = races[\"Month\"].astype(str)\n",
    "races[\"Year\"] = races[\"Year\"].astype(str)"
   ]
  },
  {
   "cell_type": "code",
   "execution_count": 4,
   "metadata": {
    "collapsed": true
   },
   "outputs": [],
   "source": [
    "horseRace = pd.merge(results, races, on = \"race_id\", how = \"inner\")\n",
    "horseRace[\"race_distance\"] = horseRace[\"race_distance\"].astype(str)"
   ]
  },
  {
   "cell_type": "code",
   "execution_count": 5,
   "metadata": {
    "collapsed": false
   },
   "outputs": [
    {
     "name": "stdout",
     "output_type": "stream",
     "text": [
      "<class 'pandas.core.frame.DataFrame'>\n",
      "Int64Index: 19996 entries, 0 to 19995\n",
      "Data columns (total 31 columns):\n",
      "finishing_position       19994 non-null object\n",
      "horse_number             19996 non-null object\n",
      "horse_name               19996 non-null object\n",
      "horse_id                 19996 non-null object\n",
      "jockey                   19996 non-null object\n",
      "trainer                  19996 non-null object\n",
      "actual_weight            19994 non-null float64\n",
      "declared_horse_weight    19922 non-null float64\n",
      "draw                     19595 non-null float64\n",
      "length_behind_winner     19996 non-null object\n",
      "running_position_1       19580 non-null float64\n",
      "running_position_2       19575 non-null float64\n",
      "running_position_3       19563 non-null float64\n",
      "running_position_4       11117 non-null float64\n",
      "finish_time              19996 non-null object\n",
      "win_odds                 19595 non-null float64\n",
      "running_position_5       2540 non-null float64\n",
      "running_position_6       352 non-null float64\n",
      "race_id                  19996 non-null object\n",
      "src                      19996 non-null object\n",
      "race_date                19996 non-null object\n",
      "race_course              19996 non-null object\n",
      "race_number              19996 non-null int64\n",
      "race_class               19996 non-null object\n",
      "race_distance            19996 non-null object\n",
      "track_condition          19996 non-null object\n",
      "race_name                19996 non-null object\n",
      "track                    19996 non-null object\n",
      "sectional_time           19996 non-null object\n",
      "Month                    19996 non-null object\n",
      "Year                     19996 non-null object\n",
      "dtypes: float64(10), int64(1), object(20)\n",
      "memory usage: 4.9+ MB\n"
     ]
    }
   ],
   "source": [
    "horseRace.info()"
   ]
  },
  {
   "cell_type": "code",
   "execution_count": 6,
   "metadata": {
    "collapsed": true
   },
   "outputs": [],
   "source": [
    "df = pd.get_dummies(horseRace.ix[:,[\"jockey\", \"trainer\",\"horse_id\", \"race_distance\", \"track\", \"race_class\", \"Month\", \"Year\"]])\n",
    "df1 = horseRace.ix[:, [\"actual_weight\"]]\n",
    "Y = horseRace.ix[:,\"finishing_position\"]\n",
    "df = df.reset_index()\n",
    "df1 = df1.reset_index()\n",
    "Y = Y.reset_index()\n",
    "final = pd.concat([df,df1,Y],axis=1)\n",
    "del final[\"index\"]"
   ]
  },
  {
   "cell_type": "code",
   "execution_count": 7,
   "metadata": {
    "collapsed": true
   },
   "outputs": [],
   "source": [
    "final = final.dropna()\n",
    "k = len(final.columns) - 1"
   ]
  },
  {
   "cell_type": "code",
   "execution_count": 9,
   "metadata": {
    "collapsed": true
   },
   "outputs": [],
   "source": [
    "X = final.ix[:,0:k]\n",
    "Y = final.ix[:,[\"finishing_position\"]]"
   ]
  },
  {
   "cell_type": "code",
   "execution_count": 10,
   "metadata": {
    "collapsed": true
   },
   "outputs": [],
   "source": [
    "X_train, X_test, Y_train, Y_test = train_test_split(X, Y, test_size=0.3, random_state=0)"
   ]
  },
  {
   "cell_type": "code",
   "execution_count": 11,
   "metadata": {
    "collapsed": false
   },
   "outputs": [
    {
     "data": {
      "text/html": [
       "<div>\n",
       "<table border=\"1\" class=\"dataframe\">\n",
       "  <thead>\n",
       "    <tr style=\"text-align: right;\">\n",
       "      <th></th>\n",
       "      <th>jockey_---</th>\n",
       "      <th>jockey_A Atzeni</th>\n",
       "      <th>jockey_A Suborics</th>\n",
       "      <th>jockey_A de Vries</th>\n",
       "      <th>jockey_B Fayd'herbe</th>\n",
       "      <th>jockey_B Prebble</th>\n",
       "      <th>jockey_B Shinn</th>\n",
       "      <th>jockey_C Brown</th>\n",
       "      <th>jockey_C F Wong</th>\n",
       "      <th>jockey_C Hayes</th>\n",
       "      <th>...</th>\n",
       "      <th>Month_3</th>\n",
       "      <th>Month_4</th>\n",
       "      <th>Month_5</th>\n",
       "      <th>Month_6</th>\n",
       "      <th>Month_7</th>\n",
       "      <th>Month_9</th>\n",
       "      <th>Year_2014</th>\n",
       "      <th>Year_2015</th>\n",
       "      <th>Year_2016</th>\n",
       "      <th>actual_weight</th>\n",
       "    </tr>\n",
       "  </thead>\n",
       "  <tbody>\n",
       "    <tr>\n",
       "      <th>13381</th>\n",
       "      <td>0.0</td>\n",
       "      <td>0.0</td>\n",
       "      <td>0.0</td>\n",
       "      <td>0.0</td>\n",
       "      <td>0.0</td>\n",
       "      <td>0.0</td>\n",
       "      <td>0.0</td>\n",
       "      <td>0.0</td>\n",
       "      <td>0.0</td>\n",
       "      <td>0.0</td>\n",
       "      <td>...</td>\n",
       "      <td>1.0</td>\n",
       "      <td>0.0</td>\n",
       "      <td>0.0</td>\n",
       "      <td>0.0</td>\n",
       "      <td>0.0</td>\n",
       "      <td>0.0</td>\n",
       "      <td>0.0</td>\n",
       "      <td>0.0</td>\n",
       "      <td>1.0</td>\n",
       "      <td>130.0</td>\n",
       "    </tr>\n",
       "    <tr>\n",
       "      <th>19622</th>\n",
       "      <td>0.0</td>\n",
       "      <td>0.0</td>\n",
       "      <td>0.0</td>\n",
       "      <td>0.0</td>\n",
       "      <td>0.0</td>\n",
       "      <td>0.0</td>\n",
       "      <td>0.0</td>\n",
       "      <td>0.0</td>\n",
       "      <td>0.0</td>\n",
       "      <td>0.0</td>\n",
       "      <td>...</td>\n",
       "      <td>0.0</td>\n",
       "      <td>0.0</td>\n",
       "      <td>0.0</td>\n",
       "      <td>0.0</td>\n",
       "      <td>0.0</td>\n",
       "      <td>0.0</td>\n",
       "      <td>0.0</td>\n",
       "      <td>0.0</td>\n",
       "      <td>1.0</td>\n",
       "      <td>119.0</td>\n",
       "    </tr>\n",
       "    <tr>\n",
       "      <th>482</th>\n",
       "      <td>0.0</td>\n",
       "      <td>0.0</td>\n",
       "      <td>0.0</td>\n",
       "      <td>0.0</td>\n",
       "      <td>0.0</td>\n",
       "      <td>0.0</td>\n",
       "      <td>0.0</td>\n",
       "      <td>0.0</td>\n",
       "      <td>0.0</td>\n",
       "      <td>0.0</td>\n",
       "      <td>...</td>\n",
       "      <td>0.0</td>\n",
       "      <td>0.0</td>\n",
       "      <td>0.0</td>\n",
       "      <td>1.0</td>\n",
       "      <td>0.0</td>\n",
       "      <td>0.0</td>\n",
       "      <td>0.0</td>\n",
       "      <td>0.0</td>\n",
       "      <td>1.0</td>\n",
       "      <td>122.0</td>\n",
       "    </tr>\n",
       "    <tr>\n",
       "      <th>11300</th>\n",
       "      <td>0.0</td>\n",
       "      <td>0.0</td>\n",
       "      <td>0.0</td>\n",
       "      <td>0.0</td>\n",
       "      <td>0.0</td>\n",
       "      <td>0.0</td>\n",
       "      <td>0.0</td>\n",
       "      <td>0.0</td>\n",
       "      <td>0.0</td>\n",
       "      <td>0.0</td>\n",
       "      <td>...</td>\n",
       "      <td>0.0</td>\n",
       "      <td>0.0</td>\n",
       "      <td>1.0</td>\n",
       "      <td>0.0</td>\n",
       "      <td>0.0</td>\n",
       "      <td>0.0</td>\n",
       "      <td>0.0</td>\n",
       "      <td>1.0</td>\n",
       "      <td>0.0</td>\n",
       "      <td>121.0</td>\n",
       "    </tr>\n",
       "    <tr>\n",
       "      <th>16918</th>\n",
       "      <td>0.0</td>\n",
       "      <td>0.0</td>\n",
       "      <td>0.0</td>\n",
       "      <td>0.0</td>\n",
       "      <td>0.0</td>\n",
       "      <td>0.0</td>\n",
       "      <td>0.0</td>\n",
       "      <td>0.0</td>\n",
       "      <td>0.0</td>\n",
       "      <td>0.0</td>\n",
       "      <td>...</td>\n",
       "      <td>0.0</td>\n",
       "      <td>0.0</td>\n",
       "      <td>0.0</td>\n",
       "      <td>0.0</td>\n",
       "      <td>0.0</td>\n",
       "      <td>0.0</td>\n",
       "      <td>1.0</td>\n",
       "      <td>0.0</td>\n",
       "      <td>0.0</td>\n",
       "      <td>112.0</td>\n",
       "    </tr>\n",
       "  </tbody>\n",
       "</table>\n",
       "<p>5 rows × 1958 columns</p>\n",
       "</div>"
      ],
      "text/plain": [
       "       jockey_---  jockey_A Atzeni  jockey_A Suborics  jockey_A de Vries  \\\n",
       "13381         0.0              0.0                0.0                0.0   \n",
       "19622         0.0              0.0                0.0                0.0   \n",
       "482           0.0              0.0                0.0                0.0   \n",
       "11300         0.0              0.0                0.0                0.0   \n",
       "16918         0.0              0.0                0.0                0.0   \n",
       "\n",
       "       jockey_B Fayd'herbe  jockey_B Prebble  jockey_B Shinn  jockey_C Brown  \\\n",
       "13381                  0.0               0.0             0.0             0.0   \n",
       "19622                  0.0               0.0             0.0             0.0   \n",
       "482                    0.0               0.0             0.0             0.0   \n",
       "11300                  0.0               0.0             0.0             0.0   \n",
       "16918                  0.0               0.0             0.0             0.0   \n",
       "\n",
       "       jockey_C F Wong  jockey_C Hayes      ...        Month_3  Month_4  \\\n",
       "13381              0.0             0.0      ...            1.0      0.0   \n",
       "19622              0.0             0.0      ...            0.0      0.0   \n",
       "482                0.0             0.0      ...            0.0      0.0   \n",
       "11300              0.0             0.0      ...            0.0      0.0   \n",
       "16918              0.0             0.0      ...            0.0      0.0   \n",
       "\n",
       "       Month_5  Month_6  Month_7  Month_9  Year_2014  Year_2015  Year_2016  \\\n",
       "13381      0.0      0.0      0.0      0.0        0.0        0.0        1.0   \n",
       "19622      0.0      0.0      0.0      0.0        0.0        0.0        1.0   \n",
       "482        0.0      1.0      0.0      0.0        0.0        0.0        1.0   \n",
       "11300      1.0      0.0      0.0      0.0        0.0        1.0        0.0   \n",
       "16918      0.0      0.0      0.0      0.0        1.0        0.0        0.0   \n",
       "\n",
       "       actual_weight  \n",
       "13381          130.0  \n",
       "19622          119.0  \n",
       "482            122.0  \n",
       "11300          121.0  \n",
       "16918          112.0  \n",
       "\n",
       "[5 rows x 1958 columns]"
      ]
     },
     "execution_count": 11,
     "metadata": {},
     "output_type": "execute_result"
    }
   ],
   "source": [
    "X_train.head()"
   ]
  },
  {
   "cell_type": "markdown",
   "metadata": {},
   "source": [
    "##### Decision Tree Classifier"
   ]
  },
  {
   "cell_type": "code",
   "execution_count": 12,
   "metadata": {
    "collapsed": false
   },
   "outputs": [
    {
     "name": "stdout",
     "output_type": "stream",
     "text": [
      "Accuracy rate using Trees on Train:  0.999928545909\n",
      "Accuracy rate using Trees on Test:  0.082347057843\n"
     ]
    }
   ],
   "source": [
    "clf = tree.DecisionTreeClassifier()\n",
    "clf = clf.fit(X_train,Y_train)\n",
    "print(\"Accuracy rate using Trees on Train: \", clf.score(X_train,Y_train))\n",
    "pred = clf.predict(X_test)\n",
    "pred = pd.DataFrame(pred, columns = [\"prediction\"])\n",
    "Y_test = Y_test.reset_index()\n",
    "del Y_test[\"index\"]\n",
    "new = pd.concat([pred, Y_test], axis = 1)\n",
    "print(\"Accuracy rate using Trees on Test: \", clf.score(X_test, Y_test))"
   ]
  },
  {
   "cell_type": "markdown",
   "metadata": {},
   "source": [
    "##### Boosting"
   ]
  },
  {
   "cell_type": "code",
   "execution_count": 13,
   "metadata": {
    "collapsed": false
   },
   "outputs": [
    {
     "name": "stderr",
     "output_type": "stream",
     "text": [
      "/Users/karishmavelagaleti/anaconda/lib/python3.5/site-packages/sklearn/utils/validation.py:526: DataConversionWarning: A column-vector y was passed when a 1d array was expected. Please change the shape of y to (n_samples, ), for example using ravel().\n",
      "  y = column_or_1d(y, warn=True)\n"
     ]
    },
    {
     "name": "stdout",
     "output_type": "stream",
     "text": [
      "Accuracy rate using Boosting on TRAINING:  0.0924615934262\n",
      "Accuracy rate using Boosting on TEST:  0.08468078013\n"
     ]
    }
   ],
   "source": [
    "clf = AdaBoostClassifier()\n",
    "clf = clf.fit(X_train,Y_train)\n",
    "print(\"Accuracy rate using Boosting on TRAINING: \", clf.score(X_train,Y_train))\n",
    "print(\"Accuracy rate using Boosting on TEST: \", clf.score(X_test,Y_test))"
   ]
  },
  {
   "cell_type": "markdown",
   "metadata": {},
   "source": [
    "##### Bagging "
   ]
  },
  {
   "cell_type": "code",
   "execution_count": 14,
   "metadata": {
    "collapsed": false
   },
   "outputs": [
    {
     "name": "stderr",
     "output_type": "stream",
     "text": [
      "/Users/karishmavelagaleti/anaconda/lib/python3.5/site-packages/sklearn/utils/validation.py:526: DataConversionWarning: A column-vector y was passed when a 1d array was expected. Please change the shape of y to (n_samples, ), for example using ravel().\n",
      "  y = column_or_1d(y, warn=True)\n"
     ]
    },
    {
     "name": "stdout",
     "output_type": "stream",
     "text": [
      "Accuracy rate using Bagging on TRAINING:  0.0918185066095\n",
      "Accuracy rate using Bagging on TEST:  0.0848474745791\n"
     ]
    }
   ],
   "source": [
    "base_clf = tree.DecisionTreeClassifier(max_depth=1)\n",
    "clf = BaggingClassifier(n_estimators=50, base_estimator=base_clf, oob_score=True)\n",
    "clf = clf.fit(X_train,Y_train)    \n",
    "print(\"Accuracy rate using Bagging on TRAINING: \", clf.score(X_train, Y_train))\n",
    "print(\"Accuracy rate using Bagging on TEST: \", clf.score(X_test, Y_test))"
   ]
  },
  {
   "cell_type": "markdown",
   "metadata": {},
   "source": [
    "##### Neural Network"
   ]
  },
  {
   "cell_type": "code",
   "execution_count": 15,
   "metadata": {
    "collapsed": false
   },
   "outputs": [
    {
     "name": "stderr",
     "output_type": "stream",
     "text": [
      "/Users/karishmavelagaleti/anaconda/lib/python3.5/site-packages/sklearn/utils/validation.py:526: DataConversionWarning: A column-vector y was passed when a 1d array was expected. Please change the shape of y to (n_samples, ), for example using ravel().\n",
      "  y = column_or_1d(y, warn=True)\n"
     ]
    },
    {
     "name": "stdout",
     "output_type": "stream",
     "text": [
      "Accuracy using Neural Net for TRAINING:  0.27173990711\n",
      "Accuracy using Neural Net for TEST:  0.111185197533\n"
     ]
    }
   ],
   "source": [
    "X_train = X_train.ix[:,0:(k-1)] #neural net takes 0 and 1s values only - so we will stick with only dummy variables for this \n",
    "X_test = X_test.ix[:,0:(k-1)]\n",
    "clf = BernoulliNB()\n",
    "clf.fit(X_train, Y_train)\n",
    "print(\"Accuracy using Neural Net for TRAINING: \", clf.score(X_train, Y_train))\n",
    "print(\"Accuracy using Neural Net for TEST: \", clf.score(X_test, Y_test))"
   ]
  },
  {
   "cell_type": "code",
   "execution_count": 16,
   "metadata": {
    "collapsed": false
   },
   "outputs": [
    {
     "data": {
      "text/html": [
       "<div>\n",
       "<table border=\"1\" class=\"dataframe\">\n",
       "  <thead>\n",
       "    <tr style=\"text-align: right;\">\n",
       "      <th></th>\n",
       "      <th>jockey_---</th>\n",
       "      <th>jockey_A Atzeni</th>\n",
       "      <th>jockey_A Suborics</th>\n",
       "      <th>jockey_A de Vries</th>\n",
       "      <th>jockey_B Fayd'herbe</th>\n",
       "      <th>jockey_B Prebble</th>\n",
       "      <th>jockey_B Shinn</th>\n",
       "      <th>jockey_C Brown</th>\n",
       "      <th>jockey_C F Wong</th>\n",
       "      <th>jockey_C Hayes</th>\n",
       "      <th>...</th>\n",
       "      <th>Month_2</th>\n",
       "      <th>Month_3</th>\n",
       "      <th>Month_4</th>\n",
       "      <th>Month_5</th>\n",
       "      <th>Month_6</th>\n",
       "      <th>Month_7</th>\n",
       "      <th>Month_9</th>\n",
       "      <th>Year_2014</th>\n",
       "      <th>Year_2015</th>\n",
       "      <th>Year_2016</th>\n",
       "    </tr>\n",
       "  </thead>\n",
       "  <tbody>\n",
       "    <tr>\n",
       "      <th>13381</th>\n",
       "      <td>0.0</td>\n",
       "      <td>0.0</td>\n",
       "      <td>0.0</td>\n",
       "      <td>0.0</td>\n",
       "      <td>0.0</td>\n",
       "      <td>0.0</td>\n",
       "      <td>0.0</td>\n",
       "      <td>0.0</td>\n",
       "      <td>0.0</td>\n",
       "      <td>0.0</td>\n",
       "      <td>...</td>\n",
       "      <td>0.0</td>\n",
       "      <td>1.0</td>\n",
       "      <td>0.0</td>\n",
       "      <td>0.0</td>\n",
       "      <td>0.0</td>\n",
       "      <td>0.0</td>\n",
       "      <td>0.0</td>\n",
       "      <td>0.0</td>\n",
       "      <td>0.0</td>\n",
       "      <td>1.0</td>\n",
       "    </tr>\n",
       "    <tr>\n",
       "      <th>19622</th>\n",
       "      <td>0.0</td>\n",
       "      <td>0.0</td>\n",
       "      <td>0.0</td>\n",
       "      <td>0.0</td>\n",
       "      <td>0.0</td>\n",
       "      <td>0.0</td>\n",
       "      <td>0.0</td>\n",
       "      <td>0.0</td>\n",
       "      <td>0.0</td>\n",
       "      <td>0.0</td>\n",
       "      <td>...</td>\n",
       "      <td>1.0</td>\n",
       "      <td>0.0</td>\n",
       "      <td>0.0</td>\n",
       "      <td>0.0</td>\n",
       "      <td>0.0</td>\n",
       "      <td>0.0</td>\n",
       "      <td>0.0</td>\n",
       "      <td>0.0</td>\n",
       "      <td>0.0</td>\n",
       "      <td>1.0</td>\n",
       "    </tr>\n",
       "    <tr>\n",
       "      <th>482</th>\n",
       "      <td>0.0</td>\n",
       "      <td>0.0</td>\n",
       "      <td>0.0</td>\n",
       "      <td>0.0</td>\n",
       "      <td>0.0</td>\n",
       "      <td>0.0</td>\n",
       "      <td>0.0</td>\n",
       "      <td>0.0</td>\n",
       "      <td>0.0</td>\n",
       "      <td>0.0</td>\n",
       "      <td>...</td>\n",
       "      <td>0.0</td>\n",
       "      <td>0.0</td>\n",
       "      <td>0.0</td>\n",
       "      <td>0.0</td>\n",
       "      <td>1.0</td>\n",
       "      <td>0.0</td>\n",
       "      <td>0.0</td>\n",
       "      <td>0.0</td>\n",
       "      <td>0.0</td>\n",
       "      <td>1.0</td>\n",
       "    </tr>\n",
       "    <tr>\n",
       "      <th>11300</th>\n",
       "      <td>0.0</td>\n",
       "      <td>0.0</td>\n",
       "      <td>0.0</td>\n",
       "      <td>0.0</td>\n",
       "      <td>0.0</td>\n",
       "      <td>0.0</td>\n",
       "      <td>0.0</td>\n",
       "      <td>0.0</td>\n",
       "      <td>0.0</td>\n",
       "      <td>0.0</td>\n",
       "      <td>...</td>\n",
       "      <td>0.0</td>\n",
       "      <td>0.0</td>\n",
       "      <td>0.0</td>\n",
       "      <td>1.0</td>\n",
       "      <td>0.0</td>\n",
       "      <td>0.0</td>\n",
       "      <td>0.0</td>\n",
       "      <td>0.0</td>\n",
       "      <td>1.0</td>\n",
       "      <td>0.0</td>\n",
       "    </tr>\n",
       "    <tr>\n",
       "      <th>16918</th>\n",
       "      <td>0.0</td>\n",
       "      <td>0.0</td>\n",
       "      <td>0.0</td>\n",
       "      <td>0.0</td>\n",
       "      <td>0.0</td>\n",
       "      <td>0.0</td>\n",
       "      <td>0.0</td>\n",
       "      <td>0.0</td>\n",
       "      <td>0.0</td>\n",
       "      <td>0.0</td>\n",
       "      <td>...</td>\n",
       "      <td>0.0</td>\n",
       "      <td>0.0</td>\n",
       "      <td>0.0</td>\n",
       "      <td>0.0</td>\n",
       "      <td>0.0</td>\n",
       "      <td>0.0</td>\n",
       "      <td>0.0</td>\n",
       "      <td>1.0</td>\n",
       "      <td>0.0</td>\n",
       "      <td>0.0</td>\n",
       "    </tr>\n",
       "  </tbody>\n",
       "</table>\n",
       "<p>5 rows × 1957 columns</p>\n",
       "</div>"
      ],
      "text/plain": [
       "       jockey_---  jockey_A Atzeni  jockey_A Suborics  jockey_A de Vries  \\\n",
       "13381         0.0              0.0                0.0                0.0   \n",
       "19622         0.0              0.0                0.0                0.0   \n",
       "482           0.0              0.0                0.0                0.0   \n",
       "11300         0.0              0.0                0.0                0.0   \n",
       "16918         0.0              0.0                0.0                0.0   \n",
       "\n",
       "       jockey_B Fayd'herbe  jockey_B Prebble  jockey_B Shinn  jockey_C Brown  \\\n",
       "13381                  0.0               0.0             0.0             0.0   \n",
       "19622                  0.0               0.0             0.0             0.0   \n",
       "482                    0.0               0.0             0.0             0.0   \n",
       "11300                  0.0               0.0             0.0             0.0   \n",
       "16918                  0.0               0.0             0.0             0.0   \n",
       "\n",
       "       jockey_C F Wong  jockey_C Hayes    ...      Month_2  Month_3  Month_4  \\\n",
       "13381              0.0             0.0    ...          0.0      1.0      0.0   \n",
       "19622              0.0             0.0    ...          1.0      0.0      0.0   \n",
       "482                0.0             0.0    ...          0.0      0.0      0.0   \n",
       "11300              0.0             0.0    ...          0.0      0.0      0.0   \n",
       "16918              0.0             0.0    ...          0.0      0.0      0.0   \n",
       "\n",
       "       Month_5  Month_6  Month_7  Month_9  Year_2014  Year_2015  Year_2016  \n",
       "13381      0.0      0.0      0.0      0.0        0.0        0.0        1.0  \n",
       "19622      0.0      0.0      0.0      0.0        0.0        0.0        1.0  \n",
       "482        0.0      1.0      0.0      0.0        0.0        0.0        1.0  \n",
       "11300      1.0      0.0      0.0      0.0        0.0        1.0        0.0  \n",
       "16918      0.0      0.0      0.0      0.0        1.0        0.0        0.0  \n",
       "\n",
       "[5 rows x 1957 columns]"
      ]
     },
     "execution_count": 16,
     "metadata": {},
     "output_type": "execute_result"
    }
   ],
   "source": [
    "X_train.head()"
   ]
  },
  {
   "cell_type": "code",
   "execution_count": null,
   "metadata": {
    "collapsed": true
   },
   "outputs": [],
   "source": []
  }
 ],
 "metadata": {
  "anaconda-cloud": {},
  "kernelspec": {
   "display_name": "Python [conda root]",
   "language": "python",
   "name": "conda-root-py"
  },
  "language_info": {
   "codemirror_mode": {
    "name": "ipython",
    "version": 3
   },
   "file_extension": ".py",
   "mimetype": "text/x-python",
   "name": "python",
   "nbconvert_exporter": "python",
   "pygments_lexer": "ipython3",
   "version": "3.5.2"
  }
 },
 "nbformat": 4,
 "nbformat_minor": 1
}
